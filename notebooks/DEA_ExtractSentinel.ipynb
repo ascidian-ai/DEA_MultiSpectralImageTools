{
 "cells": [
  {
   "cell_type": "markdown",
   "metadata": {},
   "source": [
    "# Extract Time Series Sentinel-2 data\n",
    "## from Digital Earth Australia (DEA) via STAC"
   ]
  },
  {
   "cell_type": "code",
   "execution_count": null,
   "metadata": {},
   "outputs": [],
   "source": [
    "!python --version"
   ]
  },
  {
   "cell_type": "code",
   "execution_count": null,
   "metadata": {},
   "outputs": [],
   "source": [
    "import os\n",
    "import datetime\n",
    "import numpy as np\n",
    "import matplotlib.pyplot as plt\n",
    "import folium\n",
    "import pandas as pd\n",
    "import geopandas as gpd\n",
    "from shapely.geometry import Polygon\n",
    "\n",
    "import pystac_client\n",
    "import odc.stac\n",
    "# odc-stac library downloads DEA datasets stored in AWS\n",
    "# when external to AWS (like outside DEA sandbox), AWS signed requests must be disabled\n",
    "os.environ['AWS_NO_SIGN_REQUEST'] = 'YES'\n",
    "\n",
    "from datacube.utils.geometry import CRS, Geometry, BoundingBox\n",
    "from datacube.model import GridSpec\n",
    "\n",
    "# My helper class\n",
    "from helperfunctions import begin_timer, end_timer, saveDataset, loadDataset\n",
    "from dea_helperfunctions import DEA_HelperFunctions\n",
    "\n",
    "from dea_tools.plotting import rgb\n",
    "from dea_tools.bandindices import calculate_indices"
   ]
  },
  {
   "cell_type": "markdown",
   "metadata": {},
   "source": [
    "### Constants"
   ]
  },
  {
   "cell_type": "code",
   "execution_count": null,
   "metadata": {},
   "outputs": [],
   "source": [
    "# configure helper functions\n",
    "dea_fns = DEA_HelperFunctions()\n",
    "basepath = \"../datasets/Sentinel2withIndices_\"\n",
    "fileextn = \".pkl\"\n",
    "\n",
    "filespecifier = \"PortGawlerBeachSA_2020to2022_Mar\"\n",
    "\n",
    "# Survey Area origin point\n",
    "survey_origin = [138.43196647747274, -34.62929501472954 ] # PortGawlerBeach, SA\n",
    "timebands = [[\"2020-03-01\",\"2020-03-05\"], # Mar 2020\n",
    "             [\"2021-03-01\",\"2021-03-05\"], # Mar 2021\n",
    "             [\"2022-03-01\",\"2022-03-05\"]] # Mar 2022\n",
    "\n",
    "# Coordinate Reference Systems (CRS)\n",
    "# !! ENSURE YOU USING CONSISTENT CRS WHEN PLOTTING AREAS OR PERFORMING GEOMETRIC OPERATIONS.\n",
    "epsg4326 = 'epsg:4326'            # EPSG:4326 | WGS84 latitude-longitude CRS | in Degrees of Latitude and Longitude\n",
    "epsg3577 = 'epsg:3577'            # EPSG:3577 | GDA94 / Australian Albers projection | in Metres from CRS Centroid\n",
    "\n",
    "# Survey Area (Region of Interest)\n",
    "pixel_resolution = (-10,10)       # Each pixel is of 10m x 10m resolution\n",
    "survey_tilesize = (5120,5120)     # size of each tile in metres\n",
    "survey_tiles = (10,5)              # number of horizontal and vertical tiles\n",
    "\n",
    "# Satellite datasets\n",
    "collections = [\"s2a_ard_granule\",\"s2b_ard_granule\"] # Sentinel-2A and 2B MSI Definitive ARD - NBART and Pixel Quality\n",
    "bands = (\"nbart_blue\", \"nbart_green\", \"nbart_red\", \"nbart_nir_1\") # Satellite Bands\n",
    "\n",
    "# The following band indices are added to the datasets\n",
    "#        'NDVI' (Normalised Difference Vegetation Index, Rouse 1973)\n",
    "#        'NDWI' (Normalised Difference Water Index, McFeeters 1996)\n",
    "#        'kNDVI' (Non-linear Normalised Difference Vegetation Index, Camps-Valls et al. 2021)\n",
    "#         Note: kNDVI is more resistant to saturation, bias, and complex phenological cycles\n",
    "#               and shows enhanced robustness to noise and stability across spatial and temporal scales.\n",
    "additional_bands = ['NDVI','kNDVI','NDWI']"
   ]
  },
  {
   "cell_type": "markdown",
   "metadata": {},
   "source": [
    "### Define and Display Survey Area Grid Tiles"
   ]
  },
  {
   "cell_type": "code",
   "execution_count": null,
   "metadata": {},
   "outputs": [],
   "source": [
    "# Subdivide survey area into tiles\n",
    "surveyarea_polygons = dea_fns.calc_surveyarea_polygons( origin=survey_origin,\n",
    "                                                       tileresolution=survey_tilesize,\n",
    "                                                       numtiles=survey_tiles)\n",
    "# Add polygons to geodataframe\n",
    "gdf_surveyarea = gpd.GeoDataFrame(columns=[\"tile\", \"geometry\"], crs=epsg4326)\n",
    "\n",
    "tilenum = 0\n",
    "for surveyarea_polygon in surveyarea_polygons:\n",
    "    tilenum +=1\n",
    "    gdf_surveyarea.loc[tilenum] = (tilenum,surveyarea_polygon)\n",
    "\n",
    "# Save data set to pickle file\n",
    "saveDataset(basepath + filespecifier + \"_tilepolygons\" + fileextn, gdf_surveyarea)\n",
    "\n",
    "# display Tile areas\n",
    "gdf_surveyarea.head(5)"
   ]
  },
  {
   "cell_type": "code",
   "execution_count": null,
   "metadata": {},
   "outputs": [],
   "source": [
    "map_zoom_level = 8\n",
    "map_centroid = survey_origin.reverse() # swap lat and long\n",
    "\n",
    "m = gdf_surveyarea.explore(\n",
    "     column=\"tile\", # make choropleth based on Commodity description\n",
    "     tooltip=[\"tile\"], popup=True, # show all values in popup (on click)\n",
    "     tiles=\"OpenStreetMap\", # use \"CartoDB positron\" tiles\n",
    "     cmap=\"Wistia\", # use \"Set1\" matplotlib colormap\n",
    "     legend=False,\n",
    "     location=map_centroid,\n",
    "     zoom_start = map_zoom_level,\n",
    "     name='Survey Area Tiles') # use black outline\n",
    "\n",
    "folium.TileLayer('CartoDB positron', control=True).add_to(m)  # use folium to add alternative tiles\n",
    "folium.LayerControl().add_to(m)  # use folium to add layer control\n",
    "\n",
    "m  # show map"
   ]
  },
  {
   "cell_type": "markdown",
   "metadata": {},
   "source": [
    "### Open Catalog & Extract images from Survey area"
   ]
  },
  {
   "cell_type": "code",
   "execution_count": null,
   "metadata": {
    "scrolled": false
   },
   "outputs": [],
   "source": [
    "catalog = pystac_client.Client.open('https://explorer.sandbox.dea.ga.gov.au/stac')\n",
    "\n",
    "stime = begin_timer()\n",
    "\n",
    "# Iterate through each GeoDataFrame polygon\n",
    "# Extract bands for each polygon for each time period specified\n",
    "\n",
    "surveyarea_ds = []\n",
    "\n",
    "for t in timebands:\n",
    "    i=0\n",
    "    datem = datetime. datetime. strptime(t[0], \"%Y-%m-%d\")\n",
    "    y = datem.year # year\n",
    "    m = datem.month # month\n",
    "    for p in surveyarea_polygons:\n",
    "        i+=1\n",
    "        bb = dea_fns.convert_poly2bbox(p)\n",
    "        \n",
    "        query = catalog.search( bbox=bb, collections=collections, datetime=f\"{t[0]}/{t[1]}\" )\n",
    "        items = list(query.get_items()) # Search the STAC catalog\n",
    "        \n",
    "        print(\"-----------------------------------------\")\n",
    "        print(f\"Time band: {t[0]} to {t[1]}\")\n",
    "        print(f\"Tile #: {i}\")\n",
    "        print(f\"BoundingBox: {bb}\")\n",
    "        print(f\"Found: {len(items):d} datasets\")\n",
    "        \n",
    "        if len(items) > 0:\n",
    "            ds = odc.stac.load( items,\n",
    "                                bands=bands,\n",
    "                                crs=epsg3577,\n",
    "                                resolution=pixel_resolution,\n",
    "                                chunks={},\n",
    "                                groupby=\"solar_day\",\n",
    "                                bbox=bb)\n",
    "\n",
    "            calculate_indices(ds=ds, index=additional_bands, collection='ga_s2_1', inplace=True)\n",
    "            surveyarea_ds.append([t, y, m, len(items), i, p, ds])\n",
    "        \n",
    "end_timer(stime)\n",
    "\n",
    "# Save data set to pickle file\n",
    "saveDataset(basepath + filespecifier + fileextn, surveyarea_ds)"
   ]
  },
  {
   "cell_type": "code",
   "execution_count": null,
   "metadata": {},
   "outputs": [],
   "source": []
  }
 ],
 "metadata": {
  "kernelspec": {
   "display_name": "Python 3 (ipykernel)",
   "language": "python",
   "name": "python3"
  },
  "language_info": {
   "codemirror_mode": {
    "name": "ipython",
    "version": 3
   },
   "file_extension": ".py",
   "mimetype": "text/x-python",
   "name": "python",
   "nbconvert_exporter": "python",
   "pygments_lexer": "ipython3",
   "version": "3.8.13"
  }
 },
 "nbformat": 4,
 "nbformat_minor": 4
}
