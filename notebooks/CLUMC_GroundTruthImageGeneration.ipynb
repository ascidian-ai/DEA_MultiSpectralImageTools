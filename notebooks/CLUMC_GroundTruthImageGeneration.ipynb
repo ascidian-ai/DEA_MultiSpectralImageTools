{
 "cells": [
  {
   "cell_type": "markdown",
   "metadata": {},
   "source": [
    "# Ground Truth Image Generation\n",
    "## Catchment scale land use data for Australia - Commodities (CLUMC) - Update December 2020"
   ]
  },
  {
   "cell_type": "markdown",
   "metadata": {},
   "source": [
    "### Purpose\n",
    "This notebook extracts the polygon areas associated with each location and crop and creates a bitmask layer to serve as the ground truth for the training of the deep learning model.\n"
   ]
  },
  {
   "cell_type": "code",
   "execution_count": 1,
   "metadata": {},
   "outputs": [],
   "source": [
    "import os\n",
    "import time\n",
    "\n",
    "from datetime import datetime\n",
    "import numpy as np\n",
    "import matplotlib.pyplot as plt\n",
    "import folium\n",
    "import pandas as pd\n",
    "import geopandas as gpd\n",
    "\n",
    "from shapely.geometry import Polygon\n",
    "\n",
    "# My helper class\n",
    "from helperfunctions import begin_timer, end_timer, saveDataset, loadDataset\n",
    "from dea_helperfunctions import DEA_HelperFunctions"
   ]
  },
  {
   "cell_type": "markdown",
   "metadata": {},
   "source": [
    "### Constants"
   ]
  },
  {
   "cell_type": "code",
   "execution_count": 2,
   "metadata": {},
   "outputs": [],
   "source": [
    "epsg3577 = 'epsg:3577'            # EPSG:3577: GDA94 / Australian Albers projection\n",
    "cropregions_geojsonfile = '../datasets/crop_regions.json'\n",
    "\n",
    "# configure helper functions\n",
    "dea_fns = DEA_HelperFunctions()\n",
    "basepath = \"../datasets/Sentinel2withIndices_\"\n",
    "fileextn = \".pkl\"\n",
    "\n",
    "filespecifier = \"DublinSA_2020to2022_Mar\""
   ]
  },
  {
   "cell_type": "markdown",
   "metadata": {},
   "source": [
    "### Load crop regions"
   ]
  },
  {
   "cell_type": "code",
   "execution_count": 3,
   "metadata": {},
   "outputs": [
    {
     "data": {
      "text/html": [
       "<div>\n",
       "<style scoped>\n",
       "    .dataframe tbody tr th:only-of-type {\n",
       "        vertical-align: middle;\n",
       "    }\n",
       "\n",
       "    .dataframe tbody tr th {\n",
       "        vertical-align: top;\n",
       "    }\n",
       "\n",
       "    .dataframe thead th {\n",
       "        text-align: right;\n",
       "    }\n",
       "</style>\n",
       "<table border=\"1\" class=\"dataframe\">\n",
       "  <thead>\n",
       "    <tr style=\"text-align: right;\">\n",
       "      <th></th>\n",
       "      <th>Crop Type</th>\n",
       "      <th>Broad Type</th>\n",
       "      <th>Source_yr</th>\n",
       "      <th>State</th>\n",
       "      <th>Area (ha)</th>\n",
       "      <th>Lucodev8n</th>\n",
       "      <th>Tertiary</th>\n",
       "      <th>date</th>\n",
       "      <th>geometry</th>\n",
       "    </tr>\n",
       "  </thead>\n",
       "  <tbody>\n",
       "    <tr>\n",
       "      <th>0</th>\n",
       "      <td>olives</td>\n",
       "      <td>Fruits</td>\n",
       "      <td>2015</td>\n",
       "      <td>ACT</td>\n",
       "      <td>25.311300</td>\n",
       "      <td>442</td>\n",
       "      <td>4.4.2 Irrigated olives</td>\n",
       "      <td>2012</td>\n",
       "      <td>POLYGON ((1551820.086 -3964654.231, 1551827.97...</td>\n",
       "    </tr>\n",
       "    <tr>\n",
       "      <th>1</th>\n",
       "      <td>olives</td>\n",
       "      <td>Fruits</td>\n",
       "      <td>2015</td>\n",
       "      <td>ACT</td>\n",
       "      <td>0.973185</td>\n",
       "      <td>442</td>\n",
       "      <td>4.4.2 Irrigated olives</td>\n",
       "      <td>2012</td>\n",
       "      <td>POLYGON ((1554509.456 -3961489.157, 1554528.31...</td>\n",
       "    </tr>\n",
       "    <tr>\n",
       "      <th>2</th>\n",
       "      <td>citrus</td>\n",
       "      <td>Fruits</td>\n",
       "      <td>2014</td>\n",
       "      <td>WA</td>\n",
       "      <td>0.103560</td>\n",
       "      <td>448</td>\n",
       "      <td>4.4.8 Irrigated citrus</td>\n",
       "      <td>2014</td>\n",
       "      <td>POLYGON ((-1527713.862 -3784728.068, -1527742....</td>\n",
       "    </tr>\n",
       "    <tr>\n",
       "      <th>3</th>\n",
       "      <td>citrus</td>\n",
       "      <td>Fruits</td>\n",
       "      <td>2014</td>\n",
       "      <td>WA</td>\n",
       "      <td>0.126099</td>\n",
       "      <td>448</td>\n",
       "      <td>4.4.8 Irrigated citrus</td>\n",
       "      <td>2014</td>\n",
       "      <td>POLYGON ((-1527648.368 -3784682.135, -1527691....</td>\n",
       "    </tr>\n",
       "    <tr>\n",
       "      <th>4</th>\n",
       "      <td>citrus</td>\n",
       "      <td>Fruits</td>\n",
       "      <td>2014</td>\n",
       "      <td>WA</td>\n",
       "      <td>0.594405</td>\n",
       "      <td>448</td>\n",
       "      <td>4.4.8 Irrigated citrus</td>\n",
       "      <td>2014</td>\n",
       "      <td>POLYGON ((-1543937.097 -3776665.195, -1543928....</td>\n",
       "    </tr>\n",
       "    <tr>\n",
       "      <th>...</th>\n",
       "      <td>...</td>\n",
       "      <td>...</td>\n",
       "      <td>...</td>\n",
       "      <td>...</td>\n",
       "      <td>...</td>\n",
       "      <td>...</td>\n",
       "      <td>...</td>\n",
       "      <td>...</td>\n",
       "      <td>...</td>\n",
       "    </tr>\n",
       "    <tr>\n",
       "      <th>32664</th>\n",
       "      <td>olives</td>\n",
       "      <td>Fruits</td>\n",
       "      <td>2014</td>\n",
       "      <td>Tas</td>\n",
       "      <td>3.070510</td>\n",
       "      <td>442</td>\n",
       "      <td>4.4.2 Irrigated olives</td>\n",
       "      <td>2019</td>\n",
       "      <td>POLYGON ((1280323.074 -4578309.447, 1280501.23...</td>\n",
       "    </tr>\n",
       "    <tr>\n",
       "      <th>32665</th>\n",
       "      <td>olives</td>\n",
       "      <td>Fruits</td>\n",
       "      <td>2017</td>\n",
       "      <td>Tas</td>\n",
       "      <td>2.447330</td>\n",
       "      <td>442</td>\n",
       "      <td>4.4.2 Irrigated olives</td>\n",
       "      <td>2019</td>\n",
       "      <td>POLYGON ((1217501.249 -4591585.948, 1217712.89...</td>\n",
       "    </tr>\n",
       "    <tr>\n",
       "      <th>32666</th>\n",
       "      <td>olives</td>\n",
       "      <td>Fruits</td>\n",
       "      <td>2017</td>\n",
       "      <td>Tas</td>\n",
       "      <td>2.536480</td>\n",
       "      <td>442</td>\n",
       "      <td>4.4.2 Irrigated olives</td>\n",
       "      <td>2019</td>\n",
       "      <td>POLYGON ((1281149.766 -4597046.757, 1281086.75...</td>\n",
       "    </tr>\n",
       "    <tr>\n",
       "      <th>32667</th>\n",
       "      <td>olives</td>\n",
       "      <td>Fruits</td>\n",
       "      <td>2016</td>\n",
       "      <td>Tas</td>\n",
       "      <td>16.149300</td>\n",
       "      <td>342</td>\n",
       "      <td>3.4.2 Olives</td>\n",
       "      <td>2019</td>\n",
       "      <td>POLYGON ((1302113.176 -4618451.941, 1302137.17...</td>\n",
       "    </tr>\n",
       "    <tr>\n",
       "      <th>32668</th>\n",
       "      <td>grapes</td>\n",
       "      <td>Fruits</td>\n",
       "      <td>2019</td>\n",
       "      <td>Tas</td>\n",
       "      <td>1.109850</td>\n",
       "      <td>449</td>\n",
       "      <td>4.4.9 Irrigated grapes</td>\n",
       "      <td>2019</td>\n",
       "      <td>POLYGON ((1297173.629 -4753601.773, 1297137.89...</td>\n",
       "    </tr>\n",
       "  </tbody>\n",
       "</table>\n",
       "<p>32669 rows × 9 columns</p>\n",
       "</div>"
      ],
      "text/plain": [
       "      Crop Type Broad Type  Source_yr State  Area (ha)  Lucodev8n  \\\n",
       "0        olives     Fruits       2015   ACT  25.311300        442   \n",
       "1        olives     Fruits       2015   ACT   0.973185        442   \n",
       "2        citrus     Fruits       2014    WA   0.103560        448   \n",
       "3        citrus     Fruits       2014    WA   0.126099        448   \n",
       "4        citrus     Fruits       2014    WA   0.594405        448   \n",
       "...         ...        ...        ...   ...        ...        ...   \n",
       "32664    olives     Fruits       2014   Tas   3.070510        442   \n",
       "32665    olives     Fruits       2017   Tas   2.447330        442   \n",
       "32666    olives     Fruits       2017   Tas   2.536480        442   \n",
       "32667    olives     Fruits       2016   Tas  16.149300        342   \n",
       "32668    grapes     Fruits       2019   Tas   1.109850        449   \n",
       "\n",
       "                     Tertiary  date  \\\n",
       "0      4.4.2 Irrigated olives  2012   \n",
       "1      4.4.2 Irrigated olives  2012   \n",
       "2      4.4.8 Irrigated citrus  2014   \n",
       "3      4.4.8 Irrigated citrus  2014   \n",
       "4      4.4.8 Irrigated citrus  2014   \n",
       "...                       ...   ...   \n",
       "32664  4.4.2 Irrigated olives  2019   \n",
       "32665  4.4.2 Irrigated olives  2019   \n",
       "32666  4.4.2 Irrigated olives  2019   \n",
       "32667            3.4.2 Olives  2019   \n",
       "32668  4.4.9 Irrigated grapes  2019   \n",
       "\n",
       "                                                geometry  \n",
       "0      POLYGON ((1551820.086 -3964654.231, 1551827.97...  \n",
       "1      POLYGON ((1554509.456 -3961489.157, 1554528.31...  \n",
       "2      POLYGON ((-1527713.862 -3784728.068, -1527742....  \n",
       "3      POLYGON ((-1527648.368 -3784682.135, -1527691....  \n",
       "4      POLYGON ((-1543937.097 -3776665.195, -1543928....  \n",
       "...                                                  ...  \n",
       "32664  POLYGON ((1280323.074 -4578309.447, 1280501.23...  \n",
       "32665  POLYGON ((1217501.249 -4591585.948, 1217712.89...  \n",
       "32666  POLYGON ((1281149.766 -4597046.757, 1281086.75...  \n",
       "32667  POLYGON ((1302113.176 -4618451.941, 1302137.17...  \n",
       "32668  POLYGON ((1297173.629 -4753601.773, 1297137.89...  \n",
       "\n",
       "[32669 rows x 9 columns]"
      ]
     },
     "execution_count": 3,
     "metadata": {},
     "output_type": "execute_result"
    }
   ],
   "source": [
    "crop_regions = gpd.read_file(cropregions_geojsonfile)\n",
    "crop_regions = crop_regions.to_crs(epsg3577)\n",
    "crop_regions"
   ]
  },
  {
   "cell_type": "markdown",
   "metadata": {},
   "source": [
    "### Load tile polygons"
   ]
  },
  {
   "cell_type": "code",
   "execution_count": 4,
   "metadata": {},
   "outputs": [
    {
     "data": {
      "text/plain": [
       "<AxesSubplot:>"
      ]
     },
     "execution_count": 4,
     "metadata": {},
     "output_type": "execute_result"
    },
    {
     "data": {
      "image/png": "[encoded data removed]",
      "text/plain": [
       "<Figure size 648x432 with 2 Axes>"
      ]
     },
     "metadata": {
      "needs_background": "light"
     },
     "output_type": "display_data"
    }
   ],
   "source": [
    "#Extract GeoDataFrame containing polygons\n",
    "gdf_surveyarea = loadDataset(basepath + filespecifier + \"_polygons\" + fileextn)\n",
    "\n",
    "# display Tile areas using GeoDataFrame\n",
    "gdf_surveyarea.set_crs(epsg3577)\n",
    "gdf_surveyarea.plot(column=\"tile\", kind='geo', figsize=(9,6), cmap='GnBu', legend=True, edgecolor=\"black\")"
   ]
  },
  {
   "cell_type": "markdown",
   "metadata": {},
   "source": [
    "### Create new GeoDataFrame for Crop areas containing only Polygons"
   ]
  },
  {
   "cell_type": "code",
   "execution_count": 16,
   "metadata": {},
   "outputs": [
    {
     "data": {
      "text/plain": [
       "<Projected CRS: EPSG:3577>\n",
       "Name: GDA94 / Australian Albers\n",
       "Axis Info [cartesian]:\n",
       "- E[east]: Easting (metre)\n",
       "- N[north]: Northing (metre)\n",
       "Area of Use:\n",
       "- name: Australia - onshore\n",
       "- bounds: (112.85, -43.7, 153.69, -9.86)\n",
       "Coordinate Operation:\n",
       "- name: Australian Albers\n",
       "- method: Albers Equal Area\n",
       "Datum: Geocentric Datum of Australia 1994\n",
       "- Ellipsoid: GRS 1980\n",
       "- Prime Meridian: Greenwich"
      ]
     },
     "execution_count": 16,
     "metadata": {},
     "output_type": "execute_result"
    }
   ],
   "source": [
    "crop_regions_polyonly = crop_regions.drop(columns=['Crop Type', 'Broad Type', 'Source_yr', 'State', 'Area (ha)',\n",
    "                                                   'Lucodev8n', 'Tertiary', 'date'])\n",
    "crop_regions_polyonly.crs"
   ]
  },
  {
   "cell_type": "markdown",
   "metadata": {},
   "source": [
    "### Test GeoDataFrame.overlay( 'Intersection' )\n",
    "\n",
    "## Read https://stackoverflow.com/questions/64200595/geopandas-overlay-intersection-returns-zero-rows"
   ]
  },
  {
   "cell_type": "code",
   "execution_count": 20,
   "metadata": {},
   "outputs": [
    {
     "name": "stdout",
     "output_type": "stream",
     "text": [
      "POLYGON ((138.4302758484676 -34.49925047542398, 138.576823031778 -34.49925047542398, 138.4302758484676 -34.37856067692665, 138.576823031778 -34.37856067692665, 138.4302758484676 -34.49925047542398))\n",
      "-------------------------\n",
      "0    POLYGON ((138.43028 -34.49925, 138.57682 -34.4...\n",
      "dtype: geometry\n",
      "-------------------------\n",
      "                                            geometry\n",
      "0  POLYGON ((138.430 -34.499, 138.577 -34.499, 13...\n",
      "-------------------------\n",
      "Empty GeoDataFrame\n",
      "Columns: [geometry]\n",
      "Index: []\n",
      "-------------------------\n"
     ]
    }
   ],
   "source": [
    "testtile_poly = Polygon([(138.4302758484676, -34.499250475423985), (138.57682303177802, -34.499250475423985),\n",
    "                         (138.4302758484676,-34.378560676926654), (138.57682303177802, -34.378560676926654)])\n",
    "print(testtile_poly)\n",
    "print(\"-------------------------\")\n",
    "\n",
    "testtile_gs = gpd.GeoSeries(testtile_poly)\n",
    "print(testtile_gs)\n",
    "print(\"-------------------------\")\n",
    "\n",
    "testtile_gdf = gpd.GeoDataFrame(geometry=testtile_gs, crs=epsg3577)\n",
    "print(testtile_gdf)\n",
    "print(\"-------------------------\")\n",
    "\n",
    "testtile_crop_intersection = testtile_gdf.overlay(crop_regions_polyonly, how='intersection', keep_geom_type=True)\n",
    "print(testtile_crop_intersection)\n",
    "print(\"-------------------------\")\n"
   ]
  },
  {
   "cell_type": "markdown",
   "metadata": {},
   "source": [
    "### Iterate each tile and select crop-regions covering that tile"
   ]
  },
  {
   "cell_type": "code",
   "execution_count": 8,
   "metadata": {},
   "outputs": [
    {
     "name": "stdout",
     "output_type": "stream",
     "text": [
      "POLYGON ((138.5248360122671 -34.32148028332747, 138.5248360122671 -34.27543501710443, 138.5806805980488 -34.27543501710443, 138.5806805980488 -34.32148028332747, 138.5248360122671 -34.32148028332747))\n",
      "Empty GeoDataFrame\n",
      "Columns: [Crop Type, Broad Type, Source_yr, State, Area (ha), Lucodev8n, Tertiary, date, geometry]\n",
      "Index: []\n"
     ]
    }
   ],
   "source": [
    "# Iterate through each surveyarea tile\n",
    "#for i in range(gdf_surveyarea.shape[0]):\n",
    "i = 19\n",
    "print(gdf_surveyarea[\"geometry\"][i+1])\n",
    "tile_df = gpd.GeoDataFrame(geometry=gpd.GeoSeries(gdf_surveyarea[\"geometry\"][i+1]), crs=epsg3577)\n",
    "\n",
    "tile_crop_intersection = crop_regions.overlay(tile_df, how='intersection')\n",
    "#tile_crop_intersection = crop_regions_polyonly.clip(mask=tile_df, keep_geom_type=True)\n",
    "\n",
    "#print(tile_df[\"geometry\"])\n",
    "print(tile_crop_intersection)\n",
    "#ax = tile_crop_intersection.plot(cmap='tab10')"
   ]
  },
  {
   "cell_type": "markdown",
   "metadata": {},
   "source": [
    "for each tile...\n",
    "https://stackoverflow.com/questions/14697442/faster-way-of-polygon-intersection-with-shapely\n"
   ]
  },
  {
   "cell_type": "code",
   "execution_count": null,
   "metadata": {},
   "outputs": [],
   "source": [
    "from shapely.ops import cascaded_union\n",
    "from rtree import index"
   ]
  },
  {
   "cell_type": "code",
   "execution_count": null,
   "metadata": {},
   "outputs": [],
   "source": [
    "idx = index.Index()\n",
    "\n",
    "# Populate R-tree index with bounds of grid cells\n",
    "for pos, cell in enumerate(grid_cells):\n",
    "    # assuming cell is a shapely object\n",
    "    idx.insert(pos, cell.bounds)\n",
    "\n",
    "# Loop through each Shapely polygon\n",
    "for poly in polygons:\n",
    "    # Merge cells that have overlapping bounding boxes\n",
    "    merged_cells = cascaded_union([grid_cells[pos] for pos in idx.intersection(poly.bounds)])\n",
    "    # Now do actual intersection\n",
    "    print(poly.intersection(merged_cells).area)"
   ]
  }
 ],
 "metadata": {
  "interpreter": {
   "hash": "fd69f43f58546b570e94fd7eba7b65e6bcc7a5bbc4eab0408017d18902915d69"
  },
  "kernelspec": {
   "display_name": "Python 3 (ipykernel)",
   "language": "python",
   "name": "python3"
  },
  "language_info": {
   "codemirror_mode": {
    "name": "ipython",
    "version": 3
   },
   "file_extension": ".py",
   "mimetype": "text/x-python",
   "name": "python",
   "nbconvert_exporter": "python",
   "pygments_lexer": "ipython3",
   "version": "3.8.13"
  }
 },
 "nbformat": 4,
 "nbformat_minor": 2
}
