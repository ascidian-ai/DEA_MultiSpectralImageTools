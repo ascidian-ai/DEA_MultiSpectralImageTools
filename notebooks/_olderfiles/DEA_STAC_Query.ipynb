{
 "cells": [
  {
   "cell_type": "markdown",
   "metadata": {},
   "source": [
    "# Extract Time Series Sentinel-2 data\n",
    "## from Digital Earth Australia (DEA) via STAC"
   ]
  },
  {
   "cell_type": "code",
   "execution_count": 10,
   "metadata": {},
   "outputs": [],
   "source": [
    "import os\n",
    "import numpy as np\n",
    "import pandas as pd\n",
    "import geopandas as gpd\n",
    "from shapely.geometry import Polygon\n",
    "\n",
    "import pystac_client\n",
    "import odc.stac\n",
    "# odc-stac library downloads DEA datasets stored in AWS\n",
    "# when external to AWS (like outside DEA sandbox), AWS signed requests must be disabled\n",
    "os.environ['AWS_NO_SIGN_REQUEST'] = 'YES'\n",
    "\n",
    "from datacube.utils.geometry import CRS, Geometry, BoundingBox\n",
    "from datacube.model import GridSpec\n",
    "\n",
    "# My helper class\n",
    "from dea_helperfunctions import DEA_HelperFunctions"
   ]
  },
  {
   "cell_type": "markdown",
   "metadata": {},
   "source": [
    "### DEA Open Data Cube Query Parameters (Constants)"
   ]
  },
  {
   "cell_type": "code",
   "execution_count": 11,
   "metadata": {},
   "outputs": [],
   "source": [
    "# configure helper functions\n",
    "dea_fns = DEA_HelperFunctions()\n",
    "\n",
    "# Area North East of Mallala,SA\n",
    "#survey_origin = [ 138.43623157814235, -34.48646411817517 ] # bottom left (South West) corner of Survey area\n",
    "survey_origin = [ 151.21490708987315, -33.85855385016139 ] # Sydney Royal Botanic Gardens\n",
    "\n",
    "# Survey Area (Region of Interest)\n",
    "epsg3577 = 'EPSG:3577'            # EPSG:3577: GDA94 / Australian Albers projection\n",
    "pixel_resolution = (-10,10)       # Each pixel is of 10m x 10m resolution\n",
    "survey_tilesize = (5120,5120)     # size of each tile in metres\n",
    "survey_tiles = (5,5)              # number of horizontal and vertical tiles\n",
    "\n",
    "# Satellite datasets\n",
    "collections = [\"s2a_ard_granule\", \"s2b_ard_granule\"] # Sentinel-2A and 2B MSI Definitive ARD - NBART and Pixel Quality\n",
    "bands = (\"nbart_blue\", \"nbart_green\", \"nbart_red\", \"nbart_nir_1\") # Satellite Bands"
   ]
  },
  {
   "cell_type": "markdown",
   "metadata": {},
   "source": [
    "### Define Survey Area Grid Tiles"
   ]
  },
  {
   "cell_type": "code",
   "execution_count": 12,
   "metadata": {},
   "outputs": [
    {
     "name": "stdout",
     "output_type": "stream",
     "text": [
      "POLYGON ((151.2149070898732 -33.85855385016139, 151.2149070898732 -33.81250858393835, 151.2703555576214 -33.81250858393835, 151.2703555576214 -33.85855385016139, 151.2149070898732 -33.85855385016139))\n"
     ]
    }
   ],
   "source": [
    "# Subdivide survey area into tiles\n",
    "surveyarea_polygons = dea_fns.calc_surveyarea_polygons( origin=survey_origin,\n",
    "                                                       tileresolution=survey_tilesize,\n",
    "                                                       numtiles=survey_tiles)\n",
    "#print(surveyarea_polygons)\n",
    "print(surveyarea_polygons[0])"
   ]
  },
  {
   "cell_type": "markdown",
   "metadata": {},
   "source": [
    "#### Alternate method"
   ]
  },
  {
   "cell_type": "code",
   "execution_count": 13,
   "metadata": {},
   "outputs": [
    {
     "name": "stdout",
     "output_type": "stream",
     "text": [
      "GridSpec(crs=EPSG:3577, tile_size=(5120, 5120), resolution=(-10, 10))\n",
      "(0.0, 0.0)\n",
      "('y', 'x')\n",
      "(512, 512)\n"
     ]
    }
   ],
   "source": [
    "# Define Grid Specification for a specific CRS, tile size and pixel resolution\n",
    "survey_grid = GridSpec( crs=CRS(epsg3577), \n",
    "                        tile_size=survey_tilesize, \n",
    "                        resolution=pixel_resolution,\n",
    "                        origin=(0.0,0.0))\n",
    "print(survey_grid)\n",
    "print(survey_grid.alignment)\n",
    "print(survey_grid.dimensions)\n",
    "print(survey_grid.tile_resolution)"
   ]
  },
  {
   "cell_type": "code",
   "execution_count": 14,
   "metadata": {},
   "outputs": [
    {
     "data": {
      "text/plain": [
       "[((0, -1),\n",
       "  GeoBox(512, 512, Affine(10.0, 0.0, 0.0,\n",
       "         0.0, -10.0, 0.0), EPSG:3577))]"
      ]
     },
     "execution_count": 14,
     "metadata": {},
     "output_type": "execute_result"
    }
   ],
   "source": [
    "# TEST CODE\n",
    "# Apply Grid to Survey Area\n",
    "surveyarea_polygon = dea_fns.calc_surveyarea_polygon( origin=survey_origin,\n",
    "                                                       tileresolution=survey_tilesize,\n",
    "                                                       numtiles=survey_tiles)\n",
    "#print(surveyarea_polygon)\n",
    "\n",
    "list(survey_grid.tiles(BoundingBox(151.2149070898732, -33.85855385016139, 151.4914033431495, -33.62832751904619)))"
   ]
  },
  {
   "cell_type": "markdown",
   "metadata": {},
   "source": [
    "### Plot tiles"
   ]
  },
  {
   "cell_type": "code",
   "execution_count": 15,
   "metadata": {},
   "outputs": [
    {
     "data": {
      "text/html": [
       "<div>\n",
       "<style scoped>\n",
       "    .dataframe tbody tr th:only-of-type {\n",
       "        vertical-align: middle;\n",
       "    }\n",
       "\n",
       "    .dataframe tbody tr th {\n",
       "        vertical-align: top;\n",
       "    }\n",
       "\n",
       "    .dataframe thead th {\n",
       "        text-align: right;\n",
       "    }\n",
       "</style>\n",
       "<table border=\"1\" class=\"dataframe\">\n",
       "  <thead>\n",
       "    <tr style=\"text-align: right;\">\n",
       "      <th></th>\n",
       "      <th>tile</th>\n",
       "      <th>geometry</th>\n",
       "    </tr>\n",
       "  </thead>\n",
       "  <tbody>\n",
       "    <tr>\n",
       "      <th>1</th>\n",
       "      <td>1</td>\n",
       "      <td>POLYGON ((151.21491 -33.85855, 151.21491 -33.8...</td>\n",
       "    </tr>\n",
       "    <tr>\n",
       "      <th>2</th>\n",
       "      <td>2</td>\n",
       "      <td>POLYGON ((151.27036 -33.85855, 151.27036 -33.8...</td>\n",
       "    </tr>\n",
       "    <tr>\n",
       "      <th>3</th>\n",
       "      <td>3</td>\n",
       "      <td>POLYGON ((151.32580 -33.85855, 151.32580 -33.8...</td>\n",
       "    </tr>\n",
       "    <tr>\n",
       "      <th>4</th>\n",
       "      <td>4</td>\n",
       "      <td>POLYGON ((151.38125 -33.85855, 151.38125 -33.8...</td>\n",
       "    </tr>\n",
       "    <tr>\n",
       "      <th>5</th>\n",
       "      <td>5</td>\n",
       "      <td>POLYGON ((151.43670 -33.85855, 151.43670 -33.8...</td>\n",
       "    </tr>\n",
       "    <tr>\n",
       "      <th>6</th>\n",
       "      <td>6</td>\n",
       "      <td>POLYGON ((151.21491 -33.81251, 151.21491 -33.7...</td>\n",
       "    </tr>\n",
       "    <tr>\n",
       "      <th>7</th>\n",
       "      <td>7</td>\n",
       "      <td>POLYGON ((151.27036 -33.81251, 151.27036 -33.7...</td>\n",
       "    </tr>\n",
       "    <tr>\n",
       "      <th>8</th>\n",
       "      <td>8</td>\n",
       "      <td>POLYGON ((151.32580 -33.81251, 151.32580 -33.7...</td>\n",
       "    </tr>\n",
       "    <tr>\n",
       "      <th>9</th>\n",
       "      <td>9</td>\n",
       "      <td>POLYGON ((151.38125 -33.81251, 151.38125 -33.7...</td>\n",
       "    </tr>\n",
       "    <tr>\n",
       "      <th>10</th>\n",
       "      <td>10</td>\n",
       "      <td>POLYGON ((151.43670 -33.81251, 151.43670 -33.7...</td>\n",
       "    </tr>\n",
       "    <tr>\n",
       "      <th>11</th>\n",
       "      <td>11</td>\n",
       "      <td>POLYGON ((151.21491 -33.76646, 151.21491 -33.7...</td>\n",
       "    </tr>\n",
       "    <tr>\n",
       "      <th>12</th>\n",
       "      <td>12</td>\n",
       "      <td>POLYGON ((151.27036 -33.76646, 151.27036 -33.7...</td>\n",
       "    </tr>\n",
       "    <tr>\n",
       "      <th>13</th>\n",
       "      <td>13</td>\n",
       "      <td>POLYGON ((151.32580 -33.76646, 151.32580 -33.7...</td>\n",
       "    </tr>\n",
       "    <tr>\n",
       "      <th>14</th>\n",
       "      <td>14</td>\n",
       "      <td>POLYGON ((151.38125 -33.76646, 151.38125 -33.7...</td>\n",
       "    </tr>\n",
       "    <tr>\n",
       "      <th>15</th>\n",
       "      <td>15</td>\n",
       "      <td>POLYGON ((151.43670 -33.76646, 151.43670 -33.7...</td>\n",
       "    </tr>\n",
       "    <tr>\n",
       "      <th>16</th>\n",
       "      <td>16</td>\n",
       "      <td>POLYGON ((151.21491 -33.72042, 151.21491 -33.6...</td>\n",
       "    </tr>\n",
       "    <tr>\n",
       "      <th>17</th>\n",
       "      <td>17</td>\n",
       "      <td>POLYGON ((151.27036 -33.72042, 151.27036 -33.6...</td>\n",
       "    </tr>\n",
       "    <tr>\n",
       "      <th>18</th>\n",
       "      <td>18</td>\n",
       "      <td>POLYGON ((151.32580 -33.72042, 151.32580 -33.6...</td>\n",
       "    </tr>\n",
       "    <tr>\n",
       "      <th>19</th>\n",
       "      <td>19</td>\n",
       "      <td>POLYGON ((151.38125 -33.72042, 151.38125 -33.6...</td>\n",
       "    </tr>\n",
       "    <tr>\n",
       "      <th>20</th>\n",
       "      <td>20</td>\n",
       "      <td>POLYGON ((151.43670 -33.72042, 151.43670 -33.6...</td>\n",
       "    </tr>\n",
       "    <tr>\n",
       "      <th>21</th>\n",
       "      <td>21</td>\n",
       "      <td>POLYGON ((151.21491 -33.67437, 151.21491 -33.6...</td>\n",
       "    </tr>\n",
       "    <tr>\n",
       "      <th>22</th>\n",
       "      <td>22</td>\n",
       "      <td>POLYGON ((151.27036 -33.67437, 151.27036 -33.6...</td>\n",
       "    </tr>\n",
       "    <tr>\n",
       "      <th>23</th>\n",
       "      <td>23</td>\n",
       "      <td>POLYGON ((151.32580 -33.67437, 151.32580 -33.6...</td>\n",
       "    </tr>\n",
       "    <tr>\n",
       "      <th>24</th>\n",
       "      <td>24</td>\n",
       "      <td>POLYGON ((151.38125 -33.67437, 151.38125 -33.6...</td>\n",
       "    </tr>\n",
       "    <tr>\n",
       "      <th>25</th>\n",
       "      <td>25</td>\n",
       "      <td>POLYGON ((151.43670 -33.67437, 151.43670 -33.6...</td>\n",
       "    </tr>\n",
       "  </tbody>\n",
       "</table>\n",
       "</div>"
      ],
      "text/plain": [
       "    tile                                           geometry\n",
       "1      1  POLYGON ((151.21491 -33.85855, 151.21491 -33.8...\n",
       "2      2  POLYGON ((151.27036 -33.85855, 151.27036 -33.8...\n",
       "3      3  POLYGON ((151.32580 -33.85855, 151.32580 -33.8...\n",
       "4      4  POLYGON ((151.38125 -33.85855, 151.38125 -33.8...\n",
       "5      5  POLYGON ((151.43670 -33.85855, 151.43670 -33.8...\n",
       "6      6  POLYGON ((151.21491 -33.81251, 151.21491 -33.7...\n",
       "7      7  POLYGON ((151.27036 -33.81251, 151.27036 -33.7...\n",
       "8      8  POLYGON ((151.32580 -33.81251, 151.32580 -33.7...\n",
       "9      9  POLYGON ((151.38125 -33.81251, 151.38125 -33.7...\n",
       "10    10  POLYGON ((151.43670 -33.81251, 151.43670 -33.7...\n",
       "11    11  POLYGON ((151.21491 -33.76646, 151.21491 -33.7...\n",
       "12    12  POLYGON ((151.27036 -33.76646, 151.27036 -33.7...\n",
       "13    13  POLYGON ((151.32580 -33.76646, 151.32580 -33.7...\n",
       "14    14  POLYGON ((151.38125 -33.76646, 151.38125 -33.7...\n",
       "15    15  POLYGON ((151.43670 -33.76646, 151.43670 -33.7...\n",
       "16    16  POLYGON ((151.21491 -33.72042, 151.21491 -33.6...\n",
       "17    17  POLYGON ((151.27036 -33.72042, 151.27036 -33.6...\n",
       "18    18  POLYGON ((151.32580 -33.72042, 151.32580 -33.6...\n",
       "19    19  POLYGON ((151.38125 -33.72042, 151.38125 -33.6...\n",
       "20    20  POLYGON ((151.43670 -33.72042, 151.43670 -33.6...\n",
       "21    21  POLYGON ((151.21491 -33.67437, 151.21491 -33.6...\n",
       "22    22  POLYGON ((151.27036 -33.67437, 151.27036 -33.6...\n",
       "23    23  POLYGON ((151.32580 -33.67437, 151.32580 -33.6...\n",
       "24    24  POLYGON ((151.38125 -33.67437, 151.38125 -33.6...\n",
       "25    25  POLYGON ((151.43670 -33.67437, 151.43670 -33.6..."
      ]
     },
     "execution_count": 15,
     "metadata": {},
     "output_type": "execute_result"
    }
   ],
   "source": [
    "gdf_surveyarea = gpd.GeoDataFrame(columns=[\"tile\", \"geometry\"])\n",
    "\n",
    "tilenum = 0\n",
    "for surveyarea_polygon in surveyarea_polygons:\n",
    "    tilenum +=1\n",
    "    gdf_surveyarea.loc[tilenum] = (tilenum,surveyarea_polygon)\n",
    "\n",
    "gdf_surveyarea"
   ]
  },
  {
   "cell_type": "code",
   "execution_count": 21,
   "metadata": {},
   "outputs": [
    {
     "data": {
      "text/plain": [
       "<AxesSubplot:>"
      ]
     },
     "execution_count": 21,
     "metadata": {},
     "output_type": "execute_result"
    },
    {
     "data": {
      "image/png": "[encoded data removed]",
      "text/plain": [
       "<Figure size 648x432 with 2 Axes>"
      ]
     },
     "metadata": {
      "needs_background": "light"
     },
     "output_type": "display_data"
    }
   ],
   "source": [
    "gdf_surveyarea.plot(column=\"tile\", kind='geo', figsize=(9,6), cmap='GnBu', legend=True, edgecolor=\"black\")"
   ]
  },
  {
   "cell_type": "markdown",
   "metadata": {},
   "source": [
    "### Open Catalog"
   ]
  },
  {
   "cell_type": "code",
   "execution_count": 22,
   "metadata": {},
   "outputs": [],
   "source": [
    "catalog = pystac_client.Client.open('https://explorer.sandbox.dea.ga.gov.au/stac')\n",
    "#print('COLLECTIONS')\n",
    "#print('===========')\n",
    "#for collection in catalog.get_collections():\n",
    "#    print(collection.id)"
   ]
  },
  {
   "cell_type": "code",
   "execution_count": null,
   "metadata": {},
   "outputs": [],
   "source": [
    "# Convert GeoDataFrame polygons to bbox iteratable\n",
    "# gdf_surveyarea -> sae_bbox or sae_geom\n",
    "\n",
    "# Iterate through each GeoDataFrame polygon\n",
    "# Extract bands for each polygon for each time period specified\n",
    "timebands = [[(\"2022-03-22\",\"2022-03-26\")],[(\"2022-04-22\",\"2022-04-26\")]] # start-date, end-date pairs\n",
    "surveyarea_ds = []\n",
    "\n",
    "for t in timebands:\n",
    "    i=0\n",
    "    for p in surveyarea_polygons:\n",
    "        i+=1\n",
    "        p_bbox = convert_poly2bbox(p)\n",
    "        \n",
    "        query = catalog.search( bbox=p_bbox, collections=collections, datetime=f\"{t[0]}/{t[1]}\" )\n",
    "        items = list(query.get_items()) # Search the STAC catalog\n",
    "        \n",
    "        print(f\"Time band: {t}\")\n",
    "        print(f\"Tile #: {i}\")\n",
    "        print(f\"Found: {len(items):d} datasets\")\n",
    "        \n",
    "        ds = odc.stac.load( items, bands=bands, crs=epsg3577, resolution=pixel_resolution, chunks={}, groupby=\"solar_day\", bbox=p_bbox)\n",
    "        surveyarea_ds.append({t, p, ds})"
   ]
  },
  {
   "cell_type": "code",
   "execution_count": null,
   "metadata": {},
   "outputs": [],
   "source": [
    "# Build a query with the set parameters\n",
    "#query = catalog.search(\n",
    "#    bbox=sae_bbox,\n",
    "#    intersects=sae_geom\n",
    "#    collections=collections,\n",
    "#    datetime=f\"{start_date}/{end_date}\"\n",
    "#)\n",
    "\n",
    "\n",
    "# Search the STAC catalog for all items matching the query\n",
    "#items = list(query.get_items())\n",
    "#print(f\"Found: {len(items):d} datasets\")\n",
    "\n",
    "#ds = odc.stac.load(\n",
    "#    items,\n",
    "#    bands=bands,\n",
    "#    crs=epsg3577,\n",
    "#    resolution=pixel_resolution,\n",
    "#    chunks={},\n",
    "#    groupby=\"solar_day\",\n",
    "#    bbox=sae_bbox,\n",
    "#)\n",
    "\n",
    "# ds.nbart_nir_1"
   ]
  },
  {
   "cell_type": "code",
   "execution_count": null,
   "metadata": {},
   "outputs": [],
   "source": [
    "# refer to https://xarray.pydata.org/en/stable/generated/xarray.plot.plot.html?highlight=plot\n",
    "# to tweak plots\n",
    "#ds.nbart_blue.plot(col='time', aspect=ds.dims[\"x\"] / ds.dims[\"y\"]);\n",
    "#ds.nbart_green.plot(col='time', aspect=ds.dims[\"x\"] / ds.dims[\"y\"]);\n",
    "#ds.nbart_red.plot(col='time', aspect=ds.dims[\"x\"] / ds.dims[\"y\"]);\n",
    "#ds.nbart_nir_1.plot(col='time', aspect=ds.dims[\"x\"] / ds.dims[\"y\"]);"
   ]
  }
 ],
 "metadata": {
  "kernelspec": {
   "display_name": "Python 3 (ipykernel)",
   "language": "python",
   "name": "python3"
  },
  "language_info": {
   "codemirror_mode": {
    "name": "ipython",
    "version": 3
   },
   "file_extension": ".py",
   "mimetype": "text/x-python",
   "name": "python",
   "nbconvert_exporter": "python",
   "pygments_lexer": "ipython3",
   "version": "3.8.13"
  }
 },
 "nbformat": 4,
 "nbformat_minor": 4
}
